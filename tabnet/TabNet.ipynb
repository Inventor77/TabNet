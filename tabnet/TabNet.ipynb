{
  "cells": [
    {
      "cell_type": "code",
      "execution_count": 1,
      "metadata": {
        "id": "p6-mk6jJ5coi"
      },
      "outputs": [
        {
          "name": "stderr",
          "output_type": "stream",
          "text": [
            "/home/inventor/.local/lib/python3.8/site-packages/tqdm/auto.py:22: TqdmWarning: IProgress not found. Please update jupyter and ipywidgets. See https://ipywidgets.readthedocs.io/en/stable/user_install.html\n",
            "  from .autonotebook import tqdm as notebook_tqdm\n"
          ]
        }
      ],
      "source": [
        "import torch\n",
        "import torch.nn.functional as F\n",
        "from torch import nn, einsum\n",
        "from einops import rearrange\n"
      ]
    },
    {
      "cell_type": "code",
      "execution_count": 2,
      "metadata": {
        "id": "59wctrGOINQ8"
      },
      "outputs": [],
      "source": [
        "def exits(val):\n",
        "  return val is not None\n",
        "\n",
        "def default(val, d): \n",
        "  return val if(exits(val)) else d"
      ]
    },
    {
      "cell_type": "code",
      "execution_count": null,
      "metadata": {
        "id": "fgNlnUFs9Rgp"
      },
      "outputs": [],
      "source": [
        "class Residual (nn.Module):\n",
        "  def __init__(self, fn):\n",
        "    super().__init__()\n",
        "    self.fn = fn\n",
        "\n",
        "  def forward(self, x, **kwargs):\n",
        "    return self.fn(x, **kwargs) + x"
      ]
    },
    {
      "cell_type": "code",
      "execution_count": null,
      "metadata": {
        "id": "QtXWJ9lDGN71"
      },
      "outputs": [],
      "source": [
        "class PreNorm(nn.Module):\n",
        "  def __init__(self, dim, fn):\n",
        "    super().__init__()\n",
        "    self.norm = nn.Layerform(dim)\n",
        "    self.fn = fn\n",
        "\n",
        "    def forward(self, x, **kwargs): \n",
        "      return self.fn(self.norm(x), **kwargs)"
      ]
    },
    {
      "cell_type": "code",
      "execution_count": null,
      "metadata": {
        "id": "Znd1C31QGhv4"
      },
      "outputs": [],
      "source": [
        "class GEGLU(nn.Module):\n",
        "  def forward(self, x):\n",
        "    x, gates =  x.chunk(2, dim =- 1)\n",
        "    return x * F.gelu(gates)"
      ]
    },
    {
      "cell_type": "code",
      "execution_count": null,
      "metadata": {
        "id": "TcB91xiqGvZ0"
      },
      "outputs": [],
      "source": [
        "class FeedForward (nn.Module):\n",
        "  def __init__(self, dim, mult = 4, dropout = 0.):\n",
        "    super().__init__()\n",
        "    self.net = nn.Sequential(\n",
        "      nn.Linear(dim, dim * mult * 2),\n",
        "      GEGLU(),\n",
        "      nn.Dropout (dropout),\n",
        "      nn.Linear(dim * mult, dim)\n",
        "    )\n",
        "\n",
        "  def forward(self, x, **kwargs): \n",
        "    return self.net(x)"
      ]
    },
    {
      "cell_type": "code",
      "execution_count": null,
      "metadata": {
        "id": "5XLjJJnWIpAM"
      },
      "outputs": [],
      "source": [
        "class Attention (nn.Module): \n",
        "  def __init__(\n",
        "      self,\n",
        "      dim,\n",
        "      heads = 8,\n",
        "      dim_head = 16,\n",
        "      dropout = 0.\n",
        "      ):\n",
        "    super().__init__()\n",
        "    inner_dim = dim_head*heads\n",
        "    self.heads = heads\n",
        "    self.scale = dim_head ** -0.5\n",
        "\n",
        "    self.to_qkv = nn.Linear (dim, inner_dim * 3, bias = False)\n",
        "    self.to_out = nn.Linear(inner_dim, dim)\n",
        "\n",
        "    self.dropout = nn.Dropout (dropout)\n",
        "\n",
        "    def forward(self, x):\n",
        "      h = self.heads\n",
        "      q, k, v = self.to_qkv(x).chunk(3, dim = -1)\n",
        "      q, k, v = map(lambda t: rearrange(t, 'b n (h d) -> b h n d', h = h), (q, k, v)) \n",
        "      sim = einsum('b h i d, b h j d -> b h i j', q, k) * self.scale\n",
        "      attn = sim.softmax(dim = -1) \n",
        "      attn = self.dropout (attn)\n",
        "\n",
        "      out = einsum('b h i j, b h j d-> b h i d', attn, v)\n",
        "      out = rearrange(out, 'b h n d-> b n (h d)', h = h)\n",
        "      return self.to_out(out)"
      ]
    },
    {
      "cell_type": "code",
      "execution_count": null,
      "metadata": {
        "id": "RxhaLBltGbKO"
      },
      "outputs": [],
      "source": [
        "class MLP(nn.Module):\n",
        "  def __init__(self, dims, act=None): \n",
        "    super().__init__()\n",
        "    dims_pairs = list(zip(dims[:-1], dims[1:]))\n",
        "    layers = [] \n",
        "    for ind, (dim_in, dim_out) in enumerate(dims_pairs):\n",
        "      is_last = ind >= (len(dims_pairs) - 1) \n",
        "      linear = nn.Linear(dim_in, dim_out) \n",
        "      layers.append(linear)\n",
        "\n",
        "      if is_last: \n",
        "        continue\n",
        "        \n",
        "      act = default(act, nn.ReLU())\n",
        "      layers.append(act)\n",
        "      \n",
        "    self.mlp = nn.Sequential(*layers)\n",
        "\n",
        "  def forward(self, x):\n",
        "     return self.mlp(x)"
      ]
    },
    {
      "cell_type": "code",
      "execution_count": null,
      "metadata": {
        "id": "ELT4p5aCIETC"
      },
      "outputs": [],
      "source": [
        "class Transformer (nn.Module):\n",
        "  def __init__(self, num_tokens, dim, depth, heads, dim_head, attn_dropout, ff_dropout): \n",
        "    super().__init__()\n",
        "    self.embeds = nn.Embedding(num_tokens, dim) \n",
        "    self.layers = nn.ModuleList([])\n",
        "    \n",
        "    for _ in range(depth):\n",
        "      self.layers.append(nn.ModuleList([\n",
        "        Residual(PreNorm(dim, Attention(dim, heads = heads, dim_head = dim_head, dropout = attn_dropout))),\n",
        "        Residual (PreNorm(dim, FeedForward(dim, dropout = ff_dropout))),\n",
        "      ]))\n",
        "      \n",
        "    def forward(self, x):\n",
        "      x = self.embeds(x)\n",
        "      \n",
        "      for attn, ff in self.layers:\n",
        "        x = attn(x)\n",
        "        x = ff(x)\n",
        "      return x"
      ]
    },
    {
      "cell_type": "code",
      "execution_count": null,
      "metadata": {
        "id": "ce1VEk3NK3AP"
      },
      "outputs": [],
      "source": [
        "class TabTransformer (nn.Module):\n",
        "  def __init__(self,\n",
        "               *,\n",
        "              categories,\n",
        "              num_continuous,\n",
        "              dim,\n",
        "              depth,\n",
        "              heads,\n",
        "              dim_head= 16,\n",
        "              dim_out = 1, \n",
        "              mlp_hidden_mults = (4, 2),\n",
        "              mlp_act = None,\n",
        "              num_special_tokens = 2, \n",
        "              continuous_mean_std = None,\n",
        "              attn_dropout=0.,\n",
        "              ff_dropout = 0.\n",
        "              ):\n",
        "      self.num_categories =  len(categories)\n",
        "      self.num_unique_categories = sum(categories)\n",
        "      self.num_special_tokens = num_special_tokens\n",
        "      total_tokens = self.num_unique_categories + self.num_special_tokens\n",
        "      categories_offset = F.pad(torch.tensor(list(categories)), (1, 0), value = num_special_tokens)\n",
        "      categories_offset = categories_offset.cumsum(dim = -1)[:-1]\n",
        "      self.transformer = Transformer(\n",
        "        num_tokens = total_tokens,\n",
        "        dim = dim,\n",
        "        depth = depth,\n",
        "        heads = heads, \n",
        "        dim_head = dim_head,\n",
        "        attn_dropout = attn_dropout, \n",
        "        ff_dropout = ff_dropout\n",
        "     )\n",
        "\n",
        "      input_size = (dim * self.num_categories ) + num_continuous\n",
        "      l = input_size\n",
        "\n",
        "      hidden_dimensions = list(map(lambda t:1 * t, mlp_hidden_mults))\n",
        "      all_dimensions = [input_size, *hidden_dimensions, dim_out] \n",
        "\n",
        "      self.mlp = MLP(all_dimensions, act = mlp_act)\n",
        "\n",
        "  def forward(self, x_categ, x_cont): \n",
        "    x_categ += self.categories_offset\n",
        "    x = self.transformer(x_categ)\n",
        "    flat_categ= x.flatten(1)\n",
        "\n",
        "    if exists(self.continuous_mean_std):\n",
        "      mean, std = self.continuous_mean_std.unbind(dim = -1) \n",
        "      x_cont = (x_cont - mean) / std\n",
        "      \n",
        "      normed_cont =  self.norm(x_cont) \n",
        "      x = torch.cat((flat_categ, normed_cont), dim = -1) \n",
        "      return self.mlp(x)\n"
      ]
    }
  ],
  "metadata": {
    "colab": {
      "provenance": []
    },
    "kernelspec": {
      "display_name": "Python 3.8.10 64-bit",
      "language": "python",
      "name": "python3"
    },
    "language_info": {
      "codemirror_mode": {
        "name": "ipython",
        "version": 3
      },
      "file_extension": ".py",
      "mimetype": "text/x-python",
      "name": "python",
      "nbconvert_exporter": "python",
      "pygments_lexer": "ipython3",
      "version": "3.8.10"
    },
    "vscode": {
      "interpreter": {
        "hash": "916dbcbb3f70747c44a77c7bcd40155683ae19c65e1c03b4aa3499c5328201f1"
      }
    }
  },
  "nbformat": 4,
  "nbformat_minor": 0
}
